{
 "metadata": {
  "language_info": {
   "codemirror_mode": {
    "name": "ipython",
    "version": 3
   },
   "file_extension": ".py",
   "mimetype": "text/x-python",
   "name": "python",
   "nbconvert_exporter": "python",
   "pygments_lexer": "ipython3",
   "version": "3.8.5"
  },
  "orig_nbformat": 2,
  "kernelspec": {
   "name": "python385jvsc74a57bd096b9cf9183aa427d4b6164af7392f8e5cd27d03c3fba471fe21b470aa7dd0c2d",
   "display_name": "Python 3.8.5 64-bit ('base': conda)"
  }
 },
 "nbformat": 4,
 "nbformat_minor": 2,
 "cells": [
  {
   "cell_type": "code",
   "execution_count": 12,
   "metadata": {},
   "outputs": [
    {
     "output_type": "execute_result",
     "data": {
      "text/plain": [
       "                                  ItemKey SourceId ItemSetId  ItemId  \\\n",
       "0    51020EB6-500B-3ECA-DAAA-FB9B7171E470   VCHAPS     SET00  108786   \n",
       "1    D62B0EAE-5D26-53A0-99FC-C689953B4121   VCHAPS     SET00  108790   \n",
       "2    19ECB4AF-0D73-9C31-E009-0200EDA5E812   VCHAPS     SET00  108792   \n",
       "3    31AF5181-C0E4-3492-B947-AF1668AF27DC      IHA       NaN   93995   \n",
       "4    F9991DE3-8C7B-5C15-A76D-F5C79137B114      FHA       NaN  484181   \n",
       "..                                    ...      ...       ...     ...   \n",
       "995  F5E7E4F9-36B6-F094-198E-A0CC92ACE946      NAR       NaN   41636   \n",
       "996  07E5D334-DD8D-B6F7-C980-A43434F622F2      NAR       NaN   41635   \n",
       "997  315CCE7F-61B2-4BF8-CF13-6138DF35DB38      NAR       NaN   50777   \n",
       "998  D50024B0-63D9-7E44-F92E-C8E7DCFCD8D7      NAR       NaN   40515   \n",
       "999  4806163A-5F7B-09F4-B78D-BD7B380FAA18      FHA       NaN  515120   \n",
       "\n",
       "     ProductMasterId ItemMapSource          VMID          MMID  \\\n",
       "0                  1          VMID    ZLB00I0310    ZLB00I0310   \n",
       "1                  2          VMID    ZLB00I0330    ZLB00I0330   \n",
       "2                  3          VMID    ZLB00I0340    ZLB00I0340   \n",
       "3                  4          VMID    ZMA00U0065    ZMA00U0065   \n",
       "4                  4          VMID    ZMA00U0065    ZMA00U0065   \n",
       "..               ...           ...           ...           ...   \n",
       "995              383          VMID     361426B21     361426B21   \n",
       "996              384          VMID     375004B21     375004B21   \n",
       "997              385          VMID  P4015XCB511A  P4015XCB511A   \n",
       "998              386          VMID       PF952AA       PF952AA   \n",
       "999              387          VMID      K1000118           NaN   \n",
       "\n",
       "                                              ItemDesc  \\\n",
       "0    IMPLANT OPHTHALMOLOGY TECNIS LENS INTRAOCULAR ...   \n",
       "1    IMPLANT OPHTHALMOLOGY TECNIS LENS INTRAOCULAR ...   \n",
       "2    IMPLANT OPHTHALMOLOGY TECNIS LENS INTRAOCULAR ...   \n",
       "3    LENS FOLD ZMA00U.06.5D N/STD MULTIFOCAL ACRYLI...   \n",
       "4    LENS IOL TECNIS ZMA00U 6.5D 3PC ASPHERIC MULTI...   \n",
       "..                                                 ...   \n",
       "995  ADAPTOR CARD FC HP BL20P 361426-B21 ADAPTOR CA...   \n",
       "996  MEMORY 4GB HP PC3200 FOR BL20P 375004-B21 4GB ...   \n",
       "997                           PRINTER HP P4015X P4015X   \n",
       "998  ADAPTER WIRELESS INTEL 802.11 B/G WLAN NC6000 ...   \n",
       "999  ULTRA LOW TOTAL CHLORINE TEST 0-0.2 PPM CHLORI...   \n",
       "\n",
       "                         VendorDesc         ManufacturerDesc  \n",
       "0                            ABBOTT  ADVANCED MEDICAL OPTICS  \n",
       "1                            ABBOTT  ADVANCED MEDICAL OPTICS  \n",
       "2                            ABBOTT  ADVANCED MEDICAL OPTICS  \n",
       "3                            ABBOTT                      AMO  \n",
       "4                            ABBOTT                   ABBOTT  \n",
       "..                              ...                      ...  \n",
       "995       HEWLETT PACKARD CANADA CO          HEWLETT PACKARD  \n",
       "996       HEWLETT PACKARD CANADA CO          HEWLETT PACKARD  \n",
       "997       HEWLETT PACKARD CANADA CO          HEWLETT PACKARD  \n",
       "998       HEWLETT PACKARD CANADA CO          HEWLETT PACKARD  \n",
       "999  HIGH PURITY WATER SERVICES INC                      NaN  \n",
       "\n",
       "[1000 rows x 11 columns]"
      ],
      "text/html": "<div>\n<style scoped>\n    .dataframe tbody tr th:only-of-type {\n        vertical-align: middle;\n    }\n\n    .dataframe tbody tr th {\n        vertical-align: top;\n    }\n\n    .dataframe thead th {\n        text-align: right;\n    }\n</style>\n<table border=\"1\" class=\"dataframe\">\n  <thead>\n    <tr style=\"text-align: right;\">\n      <th></th>\n      <th>ItemKey</th>\n      <th>SourceId</th>\n      <th>ItemSetId</th>\n      <th>ItemId</th>\n      <th>ProductMasterId</th>\n      <th>ItemMapSource</th>\n      <th>VMID</th>\n      <th>MMID</th>\n      <th>ItemDesc</th>\n      <th>VendorDesc</th>\n      <th>ManufacturerDesc</th>\n    </tr>\n  </thead>\n  <tbody>\n    <tr>\n      <th>0</th>\n      <td>51020EB6-500B-3ECA-DAAA-FB9B7171E470</td>\n      <td>VCHAPS</td>\n      <td>SET00</td>\n      <td>108786</td>\n      <td>1</td>\n      <td>VMID</td>\n      <td>ZLB00I0310</td>\n      <td>ZLB00I0310</td>\n      <td>IMPLANT OPHTHALMOLOGY TECNIS LENS INTRAOCULAR ...</td>\n      <td>ABBOTT</td>\n      <td>ADVANCED MEDICAL OPTICS</td>\n    </tr>\n    <tr>\n      <th>1</th>\n      <td>D62B0EAE-5D26-53A0-99FC-C689953B4121</td>\n      <td>VCHAPS</td>\n      <td>SET00</td>\n      <td>108790</td>\n      <td>2</td>\n      <td>VMID</td>\n      <td>ZLB00I0330</td>\n      <td>ZLB00I0330</td>\n      <td>IMPLANT OPHTHALMOLOGY TECNIS LENS INTRAOCULAR ...</td>\n      <td>ABBOTT</td>\n      <td>ADVANCED MEDICAL OPTICS</td>\n    </tr>\n    <tr>\n      <th>2</th>\n      <td>19ECB4AF-0D73-9C31-E009-0200EDA5E812</td>\n      <td>VCHAPS</td>\n      <td>SET00</td>\n      <td>108792</td>\n      <td>3</td>\n      <td>VMID</td>\n      <td>ZLB00I0340</td>\n      <td>ZLB00I0340</td>\n      <td>IMPLANT OPHTHALMOLOGY TECNIS LENS INTRAOCULAR ...</td>\n      <td>ABBOTT</td>\n      <td>ADVANCED MEDICAL OPTICS</td>\n    </tr>\n    <tr>\n      <th>3</th>\n      <td>31AF5181-C0E4-3492-B947-AF1668AF27DC</td>\n      <td>IHA</td>\n      <td>NaN</td>\n      <td>93995</td>\n      <td>4</td>\n      <td>VMID</td>\n      <td>ZMA00U0065</td>\n      <td>ZMA00U0065</td>\n      <td>LENS FOLD ZMA00U.06.5D N/STD MULTIFOCAL ACRYLI...</td>\n      <td>ABBOTT</td>\n      <td>AMO</td>\n    </tr>\n    <tr>\n      <th>4</th>\n      <td>F9991DE3-8C7B-5C15-A76D-F5C79137B114</td>\n      <td>FHA</td>\n      <td>NaN</td>\n      <td>484181</td>\n      <td>4</td>\n      <td>VMID</td>\n      <td>ZMA00U0065</td>\n      <td>ZMA00U0065</td>\n      <td>LENS IOL TECNIS ZMA00U 6.5D 3PC ASPHERIC MULTI...</td>\n      <td>ABBOTT</td>\n      <td>ABBOTT</td>\n    </tr>\n    <tr>\n      <th>...</th>\n      <td>...</td>\n      <td>...</td>\n      <td>...</td>\n      <td>...</td>\n      <td>...</td>\n      <td>...</td>\n      <td>...</td>\n      <td>...</td>\n      <td>...</td>\n      <td>...</td>\n      <td>...</td>\n    </tr>\n    <tr>\n      <th>995</th>\n      <td>F5E7E4F9-36B6-F094-198E-A0CC92ACE946</td>\n      <td>NAR</td>\n      <td>NaN</td>\n      <td>41636</td>\n      <td>383</td>\n      <td>VMID</td>\n      <td>361426B21</td>\n      <td>361426B21</td>\n      <td>ADAPTOR CARD FC HP BL20P 361426-B21 ADAPTOR CA...</td>\n      <td>HEWLETT PACKARD CANADA CO</td>\n      <td>HEWLETT PACKARD</td>\n    </tr>\n    <tr>\n      <th>996</th>\n      <td>07E5D334-DD8D-B6F7-C980-A43434F622F2</td>\n      <td>NAR</td>\n      <td>NaN</td>\n      <td>41635</td>\n      <td>384</td>\n      <td>VMID</td>\n      <td>375004B21</td>\n      <td>375004B21</td>\n      <td>MEMORY 4GB HP PC3200 FOR BL20P 375004-B21 4GB ...</td>\n      <td>HEWLETT PACKARD CANADA CO</td>\n      <td>HEWLETT PACKARD</td>\n    </tr>\n    <tr>\n      <th>997</th>\n      <td>315CCE7F-61B2-4BF8-CF13-6138DF35DB38</td>\n      <td>NAR</td>\n      <td>NaN</td>\n      <td>50777</td>\n      <td>385</td>\n      <td>VMID</td>\n      <td>P4015XCB511A</td>\n      <td>P4015XCB511A</td>\n      <td>PRINTER HP P4015X P4015X</td>\n      <td>HEWLETT PACKARD CANADA CO</td>\n      <td>HEWLETT PACKARD</td>\n    </tr>\n    <tr>\n      <th>998</th>\n      <td>D50024B0-63D9-7E44-F92E-C8E7DCFCD8D7</td>\n      <td>NAR</td>\n      <td>NaN</td>\n      <td>40515</td>\n      <td>386</td>\n      <td>VMID</td>\n      <td>PF952AA</td>\n      <td>PF952AA</td>\n      <td>ADAPTER WIRELESS INTEL 802.11 B/G WLAN NC6000 ...</td>\n      <td>HEWLETT PACKARD CANADA CO</td>\n      <td>HEWLETT PACKARD</td>\n    </tr>\n    <tr>\n      <th>999</th>\n      <td>4806163A-5F7B-09F4-B78D-BD7B380FAA18</td>\n      <td>FHA</td>\n      <td>NaN</td>\n      <td>515120</td>\n      <td>387</td>\n      <td>VMID</td>\n      <td>K1000118</td>\n      <td>NaN</td>\n      <td>ULTRA LOW TOTAL CHLORINE TEST 0-0.2 PPM CHLORI...</td>\n      <td>HIGH PURITY WATER SERVICES INC</td>\n      <td>NaN</td>\n    </tr>\n  </tbody>\n</table>\n<p>1000 rows × 11 columns</p>\n</div>"
     },
     "metadata": {},
     "execution_count": 12
    }
   ],
   "source": [
    "import pandas as pd\n",
    "df = pd.read_csv(\"items.csv\")\n",
    "df.sort_values(by=['ProductMasterId'])\n",
    "\n",
    "## DROP NA FOR VMID\n",
    "## MMID --> isnull()"
   ]
  },
  {
   "cell_type": "code",
   "execution_count": 14,
   "metadata": {},
   "outputs": [
    {
     "output_type": "execute_result",
     "data": {
      "text/plain": [
       "     ProductMasterId  Counts\n",
       "0                  1       1\n",
       "1                  2       1\n",
       "2                  3       1\n",
       "3                  4       4\n",
       "4                  5       4\n",
       "..               ...     ...\n",
       "382              383       1\n",
       "383              384       1\n",
       "384              385       1\n",
       "385              386       1\n",
       "386              387       1\n",
       "\n",
       "[387 rows x 2 columns]"
      ],
      "text/html": "<div>\n<style scoped>\n    .dataframe tbody tr th:only-of-type {\n        vertical-align: middle;\n    }\n\n    .dataframe tbody tr th {\n        vertical-align: top;\n    }\n\n    .dataframe thead th {\n        text-align: right;\n    }\n</style>\n<table border=\"1\" class=\"dataframe\">\n  <thead>\n    <tr style=\"text-align: right;\">\n      <th></th>\n      <th>ProductMasterId</th>\n      <th>Counts</th>\n    </tr>\n  </thead>\n  <tbody>\n    <tr>\n      <th>0</th>\n      <td>1</td>\n      <td>1</td>\n    </tr>\n    <tr>\n      <th>1</th>\n      <td>2</td>\n      <td>1</td>\n    </tr>\n    <tr>\n      <th>2</th>\n      <td>3</td>\n      <td>1</td>\n    </tr>\n    <tr>\n      <th>3</th>\n      <td>4</td>\n      <td>4</td>\n    </tr>\n    <tr>\n      <th>4</th>\n      <td>5</td>\n      <td>4</td>\n    </tr>\n    <tr>\n      <th>...</th>\n      <td>...</td>\n      <td>...</td>\n    </tr>\n    <tr>\n      <th>382</th>\n      <td>383</td>\n      <td>1</td>\n    </tr>\n    <tr>\n      <th>383</th>\n      <td>384</td>\n      <td>1</td>\n    </tr>\n    <tr>\n      <th>384</th>\n      <td>385</td>\n      <td>1</td>\n    </tr>\n    <tr>\n      <th>385</th>\n      <td>386</td>\n      <td>1</td>\n    </tr>\n    <tr>\n      <th>386</th>\n      <td>387</td>\n      <td>1</td>\n    </tr>\n  </tbody>\n</table>\n<p>387 rows × 2 columns</p>\n</div>"
     },
     "metadata": {},
     "execution_count": 14
    }
   ],
   "source": [
    "item_counts = df.groupby('ProductMasterId').size().to_frame('Counts').reset_index()\n",
    "item_counts\n",
    "\n"
   ]
  },
  {
   "cell_type": "code",
   "execution_count": 15,
   "metadata": {},
   "outputs": [
    {
     "output_type": "execute_result",
     "data": {
      "text/plain": [
       "     ProductMasterId  Counts                               ItemKey SourceId  \\\n",
       "0                  1       1  51020EB6-500B-3ECA-DAAA-FB9B7171E470   VCHAPS   \n",
       "1                  2       1  D62B0EAE-5D26-53A0-99FC-C689953B4121   VCHAPS   \n",
       "2                  3       1  19ECB4AF-0D73-9C31-E009-0200EDA5E812   VCHAPS   \n",
       "3                  4       4  31AF5181-C0E4-3492-B947-AF1668AF27DC      IHA   \n",
       "4                  4       4  F9991DE3-8C7B-5C15-A76D-F5C79137B114      FHA   \n",
       "..               ...     ...                                   ...      ...   \n",
       "995              383       1  F5E7E4F9-36B6-F094-198E-A0CC92ACE946      NAR   \n",
       "996              384       1  07E5D334-DD8D-B6F7-C980-A43434F622F2      NAR   \n",
       "997              385       1  315CCE7F-61B2-4BF8-CF13-6138DF35DB38      NAR   \n",
       "998              386       1  D50024B0-63D9-7E44-F92E-C8E7DCFCD8D7      NAR   \n",
       "999              387       1  4806163A-5F7B-09F4-B78D-BD7B380FAA18      FHA   \n",
       "\n",
       "    ItemSetId  ItemId          VMID          MMID  \\\n",
       "0       SET00  108786    ZLB00I0310    ZLB00I0310   \n",
       "1       SET00  108790    ZLB00I0330    ZLB00I0330   \n",
       "2       SET00  108792    ZLB00I0340    ZLB00I0340   \n",
       "3         NaN   93995    ZMA00U0065    ZMA00U0065   \n",
       "4         NaN  484181    ZMA00U0065    ZMA00U0065   \n",
       "..        ...     ...           ...           ...   \n",
       "995       NaN   41636     361426B21     361426B21   \n",
       "996       NaN   41635     375004B21     375004B21   \n",
       "997       NaN   50777  P4015XCB511A  P4015XCB511A   \n",
       "998       NaN   40515       PF952AA       PF952AA   \n",
       "999       NaN  515120      K1000118           NaN   \n",
       "\n",
       "                                              ItemDesc  \\\n",
       "0    IMPLANT OPHTHALMOLOGY TECNIS LENS INTRAOCULAR ...   \n",
       "1    IMPLANT OPHTHALMOLOGY TECNIS LENS INTRAOCULAR ...   \n",
       "2    IMPLANT OPHTHALMOLOGY TECNIS LENS INTRAOCULAR ...   \n",
       "3    LENS FOLD ZMA00U.06.5D N/STD MULTIFOCAL ACRYLI...   \n",
       "4    LENS IOL TECNIS ZMA00U 6.5D 3PC ASPHERIC MULTI...   \n",
       "..                                                 ...   \n",
       "995  ADAPTOR CARD FC HP BL20P 361426-B21 ADAPTOR CA...   \n",
       "996  MEMORY 4GB HP PC3200 FOR BL20P 375004-B21 4GB ...   \n",
       "997                           PRINTER HP P4015X P4015X   \n",
       "998  ADAPTER WIRELESS INTEL 802.11 B/G WLAN NC6000 ...   \n",
       "999  ULTRA LOW TOTAL CHLORINE TEST 0-0.2 PPM CHLORI...   \n",
       "\n",
       "                         VendorDesc         ManufacturerDesc  \n",
       "0                            ABBOTT  ADVANCED MEDICAL OPTICS  \n",
       "1                            ABBOTT  ADVANCED MEDICAL OPTICS  \n",
       "2                            ABBOTT  ADVANCED MEDICAL OPTICS  \n",
       "3                            ABBOTT                      AMO  \n",
       "4                            ABBOTT                   ABBOTT  \n",
       "..                              ...                      ...  \n",
       "995       HEWLETT PACKARD CANADA CO          HEWLETT PACKARD  \n",
       "996       HEWLETT PACKARD CANADA CO          HEWLETT PACKARD  \n",
       "997       HEWLETT PACKARD CANADA CO          HEWLETT PACKARD  \n",
       "998       HEWLETT PACKARD CANADA CO          HEWLETT PACKARD  \n",
       "999  HIGH PURITY WATER SERVICES INC                      NaN  \n",
       "\n",
       "[1000 rows x 11 columns]"
      ],
      "text/html": "<div>\n<style scoped>\n    .dataframe tbody tr th:only-of-type {\n        vertical-align: middle;\n    }\n\n    .dataframe tbody tr th {\n        vertical-align: top;\n    }\n\n    .dataframe thead th {\n        text-align: right;\n    }\n</style>\n<table border=\"1\" class=\"dataframe\">\n  <thead>\n    <tr style=\"text-align: right;\">\n      <th></th>\n      <th>ProductMasterId</th>\n      <th>Counts</th>\n      <th>ItemKey</th>\n      <th>SourceId</th>\n      <th>ItemSetId</th>\n      <th>ItemId</th>\n      <th>VMID</th>\n      <th>MMID</th>\n      <th>ItemDesc</th>\n      <th>VendorDesc</th>\n      <th>ManufacturerDesc</th>\n    </tr>\n  </thead>\n  <tbody>\n    <tr>\n      <th>0</th>\n      <td>1</td>\n      <td>1</td>\n      <td>51020EB6-500B-3ECA-DAAA-FB9B7171E470</td>\n      <td>VCHAPS</td>\n      <td>SET00</td>\n      <td>108786</td>\n      <td>ZLB00I0310</td>\n      <td>ZLB00I0310</td>\n      <td>IMPLANT OPHTHALMOLOGY TECNIS LENS INTRAOCULAR ...</td>\n      <td>ABBOTT</td>\n      <td>ADVANCED MEDICAL OPTICS</td>\n    </tr>\n    <tr>\n      <th>1</th>\n      <td>2</td>\n      <td>1</td>\n      <td>D62B0EAE-5D26-53A0-99FC-C689953B4121</td>\n      <td>VCHAPS</td>\n      <td>SET00</td>\n      <td>108790</td>\n      <td>ZLB00I0330</td>\n      <td>ZLB00I0330</td>\n      <td>IMPLANT OPHTHALMOLOGY TECNIS LENS INTRAOCULAR ...</td>\n      <td>ABBOTT</td>\n      <td>ADVANCED MEDICAL OPTICS</td>\n    </tr>\n    <tr>\n      <th>2</th>\n      <td>3</td>\n      <td>1</td>\n      <td>19ECB4AF-0D73-9C31-E009-0200EDA5E812</td>\n      <td>VCHAPS</td>\n      <td>SET00</td>\n      <td>108792</td>\n      <td>ZLB00I0340</td>\n      <td>ZLB00I0340</td>\n      <td>IMPLANT OPHTHALMOLOGY TECNIS LENS INTRAOCULAR ...</td>\n      <td>ABBOTT</td>\n      <td>ADVANCED MEDICAL OPTICS</td>\n    </tr>\n    <tr>\n      <th>3</th>\n      <td>4</td>\n      <td>4</td>\n      <td>31AF5181-C0E4-3492-B947-AF1668AF27DC</td>\n      <td>IHA</td>\n      <td>NaN</td>\n      <td>93995</td>\n      <td>ZMA00U0065</td>\n      <td>ZMA00U0065</td>\n      <td>LENS FOLD ZMA00U.06.5D N/STD MULTIFOCAL ACRYLI...</td>\n      <td>ABBOTT</td>\n      <td>AMO</td>\n    </tr>\n    <tr>\n      <th>4</th>\n      <td>4</td>\n      <td>4</td>\n      <td>F9991DE3-8C7B-5C15-A76D-F5C79137B114</td>\n      <td>FHA</td>\n      <td>NaN</td>\n      <td>484181</td>\n      <td>ZMA00U0065</td>\n      <td>ZMA00U0065</td>\n      <td>LENS IOL TECNIS ZMA00U 6.5D 3PC ASPHERIC MULTI...</td>\n      <td>ABBOTT</td>\n      <td>ABBOTT</td>\n    </tr>\n    <tr>\n      <th>...</th>\n      <td>...</td>\n      <td>...</td>\n      <td>...</td>\n      <td>...</td>\n      <td>...</td>\n      <td>...</td>\n      <td>...</td>\n      <td>...</td>\n      <td>...</td>\n      <td>...</td>\n      <td>...</td>\n    </tr>\n    <tr>\n      <th>995</th>\n      <td>383</td>\n      <td>1</td>\n      <td>F5E7E4F9-36B6-F094-198E-A0CC92ACE946</td>\n      <td>NAR</td>\n      <td>NaN</td>\n      <td>41636</td>\n      <td>361426B21</td>\n      <td>361426B21</td>\n      <td>ADAPTOR CARD FC HP BL20P 361426-B21 ADAPTOR CA...</td>\n      <td>HEWLETT PACKARD CANADA CO</td>\n      <td>HEWLETT PACKARD</td>\n    </tr>\n    <tr>\n      <th>996</th>\n      <td>384</td>\n      <td>1</td>\n      <td>07E5D334-DD8D-B6F7-C980-A43434F622F2</td>\n      <td>NAR</td>\n      <td>NaN</td>\n      <td>41635</td>\n      <td>375004B21</td>\n      <td>375004B21</td>\n      <td>MEMORY 4GB HP PC3200 FOR BL20P 375004-B21 4GB ...</td>\n      <td>HEWLETT PACKARD CANADA CO</td>\n      <td>HEWLETT PACKARD</td>\n    </tr>\n    <tr>\n      <th>997</th>\n      <td>385</td>\n      <td>1</td>\n      <td>315CCE7F-61B2-4BF8-CF13-6138DF35DB38</td>\n      <td>NAR</td>\n      <td>NaN</td>\n      <td>50777</td>\n      <td>P4015XCB511A</td>\n      <td>P4015XCB511A</td>\n      <td>PRINTER HP P4015X P4015X</td>\n      <td>HEWLETT PACKARD CANADA CO</td>\n      <td>HEWLETT PACKARD</td>\n    </tr>\n    <tr>\n      <th>998</th>\n      <td>386</td>\n      <td>1</td>\n      <td>D50024B0-63D9-7E44-F92E-C8E7DCFCD8D7</td>\n      <td>NAR</td>\n      <td>NaN</td>\n      <td>40515</td>\n      <td>PF952AA</td>\n      <td>PF952AA</td>\n      <td>ADAPTER WIRELESS INTEL 802.11 B/G WLAN NC6000 ...</td>\n      <td>HEWLETT PACKARD CANADA CO</td>\n      <td>HEWLETT PACKARD</td>\n    </tr>\n    <tr>\n      <th>999</th>\n      <td>387</td>\n      <td>1</td>\n      <td>4806163A-5F7B-09F4-B78D-BD7B380FAA18</td>\n      <td>FHA</td>\n      <td>NaN</td>\n      <td>515120</td>\n      <td>K1000118</td>\n      <td>NaN</td>\n      <td>ULTRA LOW TOTAL CHLORINE TEST 0-0.2 PPM CHLORI...</td>\n      <td>HIGH PURITY WATER SERVICES INC</td>\n      <td>NaN</td>\n    </tr>\n  </tbody>\n</table>\n<p>1000 rows × 11 columns</p>\n</div>"
     },
     "metadata": {},
     "execution_count": 15
    }
   ],
   "source": [
    "df = pd.merge(df, item_counts, on='ProductMasterId')\n",
    "df = df[['ProductMasterId', 'Counts', 'ItemKey', 'SourceId', 'ItemSetId', 'ItemId',\n",
    "         'VMID', 'MMID', 'ItemDesc', 'VendorDesc', 'ManufacturerDesc']]\n",
    "df"
   ]
  },
  {
   "cell_type": "code",
   "execution_count": 16,
   "metadata": {},
   "outputs": [
    {
     "output_type": "execute_result",
     "data": {
      "text/plain": [
       "     ProductMasterId  Counts                               ItemKey SourceId  \\\n",
       "3                  4       4  31AF5181-C0E4-3492-B947-AF1668AF27DC      IHA   \n",
       "4                  4       4  F9991DE3-8C7B-5C15-A76D-F5C79137B114      FHA   \n",
       "5                  4       4  B7996E81-DFDB-A13C-0E86-056C09029279   VCHAPS   \n",
       "6                  4       4  AABC72EC-2891-772B-601E-8618EEC27CD3      IHA   \n",
       "7                  5       4  ED68046C-6911-8D47-D848-F0EE181396C8      IHA   \n",
       "..               ...     ...                                   ...      ...   \n",
       "982              372       2  16229CD9-CB8F-1B86-E6B0-BF6DA913ED84      IHA   \n",
       "985              375       2  272252AD-28BE-7811-C29A-8FA4C2CC4F46      IHA   \n",
       "986              375       2  272252AD-28BE-7811-C29A-8FA4C2CC4F46      IHA   \n",
       "988              377       2  2BCCC0F6-327D-14A5-01C9-1470A6F1624F      IHA   \n",
       "989              377       2  2BCCC0F6-327D-14A5-01C9-1470A6F1624F      IHA   \n",
       "\n",
       "    ItemSetId  ItemId        VMID        MMID  \\\n",
       "3         NaN   93995  ZMA00U0065  ZMA00U0065   \n",
       "4         NaN  484181  ZMA00U0065  ZMA00U0065   \n",
       "5       SET00   91990  ZMA00U0065  ZMA00U0065   \n",
       "6         NaN   93798  ZMA00U0065  ZMA00U0065   \n",
       "7         NaN   93802  ZMA00U0085  ZMA00U0085   \n",
       "..        ...     ...         ...         ...   \n",
       "982       NaN   94314    RAD66CMU    RAD66CMU   \n",
       "985       NaN  139542     SC614OP         NaN   \n",
       "986       NaN  139542     SC614OP     SC614OP   \n",
       "988       NaN   39276       T2336         NaN   \n",
       "989       NaN   39276       T2336       T2336   \n",
       "\n",
       "                                              ItemDesc  \\\n",
       "3    LENS FOLD ZMA00U.06.5D N/STD MULTIFOCAL ACRYLI...   \n",
       "4    LENS IOL TECNIS ZMA00U 6.5D 3PC ASPHERIC MULTI...   \n",
       "5    IMPLANT OPHTHALMOLOGY LENS INTRAOCULAR FOLDABL...   \n",
       "6    LENS FOLD ZMA00U.06.5D N/STD MULTIFOCAL ACRYLI...   \n",
       "7    LENS FOLD ZMA00U.08.5D N/STD MULTIFOCAL ACRYLI...   \n",
       "..                                                 ...   \n",
       "982  WORKSTATION,L SHAPED, 66\"L X 66\"W X 24\"D EQUIP...   \n",
       "985  CHAIR,SLEEPER,MITRA AS OUTLINED: OFFICE FURNITURE   \n",
       "986  CHAIR,SLEEPER,MITRA AS OUTLINED: OFFICE FURNITURE   \n",
       "988               TOP,TABLE,ROUND 36\" FURNITURE OFFICE   \n",
       "989               TOP,TABLE,ROUND 36\" FURNITURE OFFICE   \n",
       "\n",
       "                      VendorDesc         ManufacturerDesc  \n",
       "3                         ABBOTT                      AMO  \n",
       "4                         ABBOTT                   ABBOTT  \n",
       "5                         ABBOTT  ADVANCED MEDICAL OPTICS  \n",
       "6                         ABBOTT                      AMO  \n",
       "7                         ABBOTT                      AMO  \n",
       "..                           ...                      ...  \n",
       "982  HERITAGE OFFICE FURNISHINGS                HEARTWOOD  \n",
       "985  HERITAGE OFFICE FURNISHINGS                      NaN  \n",
       "986  HERITAGE OFFICE FURNISHINGS                STEELCASE  \n",
       "988  HERITAGE OFFICE FURNISHINGS                      NaN  \n",
       "989  HERITAGE OFFICE FURNISHINGS                  HI LINE  \n",
       "\n",
       "[847 rows x 11 columns]"
      ],
      "text/html": "<div>\n<style scoped>\n    .dataframe tbody tr th:only-of-type {\n        vertical-align: middle;\n    }\n\n    .dataframe tbody tr th {\n        vertical-align: top;\n    }\n\n    .dataframe thead th {\n        text-align: right;\n    }\n</style>\n<table border=\"1\" class=\"dataframe\">\n  <thead>\n    <tr style=\"text-align: right;\">\n      <th></th>\n      <th>ProductMasterId</th>\n      <th>Counts</th>\n      <th>ItemKey</th>\n      <th>SourceId</th>\n      <th>ItemSetId</th>\n      <th>ItemId</th>\n      <th>VMID</th>\n      <th>MMID</th>\n      <th>ItemDesc</th>\n      <th>VendorDesc</th>\n      <th>ManufacturerDesc</th>\n    </tr>\n  </thead>\n  <tbody>\n    <tr>\n      <th>3</th>\n      <td>4</td>\n      <td>4</td>\n      <td>31AF5181-C0E4-3492-B947-AF1668AF27DC</td>\n      <td>IHA</td>\n      <td>NaN</td>\n      <td>93995</td>\n      <td>ZMA00U0065</td>\n      <td>ZMA00U0065</td>\n      <td>LENS FOLD ZMA00U.06.5D N/STD MULTIFOCAL ACRYLI...</td>\n      <td>ABBOTT</td>\n      <td>AMO</td>\n    </tr>\n    <tr>\n      <th>4</th>\n      <td>4</td>\n      <td>4</td>\n      <td>F9991DE3-8C7B-5C15-A76D-F5C79137B114</td>\n      <td>FHA</td>\n      <td>NaN</td>\n      <td>484181</td>\n      <td>ZMA00U0065</td>\n      <td>ZMA00U0065</td>\n      <td>LENS IOL TECNIS ZMA00U 6.5D 3PC ASPHERIC MULTI...</td>\n      <td>ABBOTT</td>\n      <td>ABBOTT</td>\n    </tr>\n    <tr>\n      <th>5</th>\n      <td>4</td>\n      <td>4</td>\n      <td>B7996E81-DFDB-A13C-0E86-056C09029279</td>\n      <td>VCHAPS</td>\n      <td>SET00</td>\n      <td>91990</td>\n      <td>ZMA00U0065</td>\n      <td>ZMA00U0065</td>\n      <td>IMPLANT OPHTHALMOLOGY LENS INTRAOCULAR FOLDABL...</td>\n      <td>ABBOTT</td>\n      <td>ADVANCED MEDICAL OPTICS</td>\n    </tr>\n    <tr>\n      <th>6</th>\n      <td>4</td>\n      <td>4</td>\n      <td>AABC72EC-2891-772B-601E-8618EEC27CD3</td>\n      <td>IHA</td>\n      <td>NaN</td>\n      <td>93798</td>\n      <td>ZMA00U0065</td>\n      <td>ZMA00U0065</td>\n      <td>LENS FOLD ZMA00U.06.5D N/STD MULTIFOCAL ACRYLI...</td>\n      <td>ABBOTT</td>\n      <td>AMO</td>\n    </tr>\n    <tr>\n      <th>7</th>\n      <td>5</td>\n      <td>4</td>\n      <td>ED68046C-6911-8D47-D848-F0EE181396C8</td>\n      <td>IHA</td>\n      <td>NaN</td>\n      <td>93802</td>\n      <td>ZMA00U0085</td>\n      <td>ZMA00U0085</td>\n      <td>LENS FOLD ZMA00U.08.5D N/STD MULTIFOCAL ACRYLI...</td>\n      <td>ABBOTT</td>\n      <td>AMO</td>\n    </tr>\n    <tr>\n      <th>...</th>\n      <td>...</td>\n      <td>...</td>\n      <td>...</td>\n      <td>...</td>\n      <td>...</td>\n      <td>...</td>\n      <td>...</td>\n      <td>...</td>\n      <td>...</td>\n      <td>...</td>\n      <td>...</td>\n    </tr>\n    <tr>\n      <th>982</th>\n      <td>372</td>\n      <td>2</td>\n      <td>16229CD9-CB8F-1B86-E6B0-BF6DA913ED84</td>\n      <td>IHA</td>\n      <td>NaN</td>\n      <td>94314</td>\n      <td>RAD66CMU</td>\n      <td>RAD66CMU</td>\n      <td>WORKSTATION,L SHAPED, 66\"L X 66\"W X 24\"D EQUIP...</td>\n      <td>HERITAGE OFFICE FURNISHINGS</td>\n      <td>HEARTWOOD</td>\n    </tr>\n    <tr>\n      <th>985</th>\n      <td>375</td>\n      <td>2</td>\n      <td>272252AD-28BE-7811-C29A-8FA4C2CC4F46</td>\n      <td>IHA</td>\n      <td>NaN</td>\n      <td>139542</td>\n      <td>SC614OP</td>\n      <td>NaN</td>\n      <td>CHAIR,SLEEPER,MITRA AS OUTLINED: OFFICE FURNITURE</td>\n      <td>HERITAGE OFFICE FURNISHINGS</td>\n      <td>NaN</td>\n    </tr>\n    <tr>\n      <th>986</th>\n      <td>375</td>\n      <td>2</td>\n      <td>272252AD-28BE-7811-C29A-8FA4C2CC4F46</td>\n      <td>IHA</td>\n      <td>NaN</td>\n      <td>139542</td>\n      <td>SC614OP</td>\n      <td>SC614OP</td>\n      <td>CHAIR,SLEEPER,MITRA AS OUTLINED: OFFICE FURNITURE</td>\n      <td>HERITAGE OFFICE FURNISHINGS</td>\n      <td>STEELCASE</td>\n    </tr>\n    <tr>\n      <th>988</th>\n      <td>377</td>\n      <td>2</td>\n      <td>2BCCC0F6-327D-14A5-01C9-1470A6F1624F</td>\n      <td>IHA</td>\n      <td>NaN</td>\n      <td>39276</td>\n      <td>T2336</td>\n      <td>NaN</td>\n      <td>TOP,TABLE,ROUND 36\" FURNITURE OFFICE</td>\n      <td>HERITAGE OFFICE FURNISHINGS</td>\n      <td>NaN</td>\n    </tr>\n    <tr>\n      <th>989</th>\n      <td>377</td>\n      <td>2</td>\n      <td>2BCCC0F6-327D-14A5-01C9-1470A6F1624F</td>\n      <td>IHA</td>\n      <td>NaN</td>\n      <td>39276</td>\n      <td>T2336</td>\n      <td>T2336</td>\n      <td>TOP,TABLE,ROUND 36\" FURNITURE OFFICE</td>\n      <td>HERITAGE OFFICE FURNISHINGS</td>\n      <td>HI LINE</td>\n    </tr>\n  </tbody>\n</table>\n<p>847 rows × 11 columns</p>\n</div>"
     },
     "metadata": {},
     "execution_count": 16
    }
   ],
   "source": [
    "## Split the items into two major gorups\n",
    "### 1. Items that has same product master id \n",
    "### 2. Item that has its own unique product master id \n",
    "\n",
    "multi_items = df[df['Counts'] > 1]\n",
    "multi_items"
   ]
  },
  {
   "cell_type": "code",
   "execution_count": 17,
   "metadata": {},
   "outputs": [
    {
     "output_type": "execute_result",
     "data": {
      "text/plain": [
       "array([['31AF5181-C0E4-3492-B947-AF1668AF27DC', 'ZMA00U0065',\n",
       "        'ZMA00U0065',\n",
       "        'LENS FOLD ZMA00U.06.5D N/STD MULTIFOCAL ACRYLIC TECNIS MF LENS INOCULAR FOLDING',\n",
       "        'ABBOTT', 'AMO'],\n",
       "       ['F9991DE3-8C7B-5C15-A76D-F5C79137B114', 'ZMA00U0065',\n",
       "        'ZMA00U0065',\n",
       "        'LENS IOL TECNIS ZMA00U 6.5D 3PC ASPHERIC MULTIFOCAL MF LENS IOL ASPHERIC MULTIFOCAL',\n",
       "        'ABBOTT', 'ABBOTT'],\n",
       "       ['B7996E81-DFDB-A13C-0E86-056C09029279', 'ZMA00U0065',\n",
       "        'ZMA00U0065',\n",
       "        'IMPLANT OPHTHALMOLOGY LENS INTRAOCULAR FOLDABLE TECNIS MF ASPHERIC MULTIFOCAL THREE PIECE 6.5 DIOPTER 6.0MM X 13MM ACRYLIC',\n",
       "        'ABBOTT', 'ADVANCED MEDICAL OPTICS'],\n",
       "       ...,\n",
       "       ['272252AD-28BE-7811-C29A-8FA4C2CC4F46', 'SC614OP', 'SC614OP',\n",
       "        'CHAIR,SLEEPER,MITRA AS OUTLINED: OFFICE FURNITURE',\n",
       "        'HERITAGE OFFICE FURNISHINGS', 'STEELCASE'],\n",
       "       ['2BCCC0F6-327D-14A5-01C9-1470A6F1624F', 'T2336', nan,\n",
       "        'TOP,TABLE,ROUND 36\" FURNITURE OFFICE',\n",
       "        'HERITAGE OFFICE FURNISHINGS', nan],\n",
       "       ['2BCCC0F6-327D-14A5-01C9-1470A6F1624F', 'T2336', 'T2336',\n",
       "        'TOP,TABLE,ROUND 36\" FURNITURE OFFICE',\n",
       "        'HERITAGE OFFICE FURNISHINGS', 'HI LINE']], dtype=object)"
      ]
     },
     "metadata": {},
     "execution_count": 17
    }
   ],
   "source": [
    "multi_item_input = multi_items[['ItemKey', 'VMID', 'MMID', 'ItemDesc', 'VendorDesc', 'ManufacturerDesc']].values\n",
    "columns = multi_items.columns[2:] \n",
    "multi_item_input\n"
   ]
  },
  {
   "cell_type": "code",
   "execution_count": 22,
   "metadata": {},
   "outputs": [
    {
     "output_type": "execute_result",
     "data": {
      "text/plain": [
       "   0                                     1           2           3   \\\n",
       "0   3  31AF5181-C0E4-3492-B947-AF1668AF27DC  ZMA00U0065  ZMA00U0065   \n",
       "1   3  31AF5181-C0E4-3492-B947-AF1668AF27DC  ZMA00U0065  ZMA00U0065   \n",
       "2   3  31AF5181-C0E4-3492-B947-AF1668AF27DC  ZMA00U0065  ZMA00U0065   \n",
       "3   4  F9991DE3-8C7B-5C15-A76D-F5C79137B114  ZMA00U0065  ZMA00U0065   \n",
       "4   4  F9991DE3-8C7B-5C15-A76D-F5C79137B114  ZMA00U0065  ZMA00U0065   \n",
       "5   5  B7996E81-DFDB-A13C-0E86-056C09029279  ZMA00U0065  ZMA00U0065   \n",
       "\n",
       "                                                  4       5   \\\n",
       "0  LENS FOLD ZMA00U.06.5D N/STD MULTIFOCAL ACRYLI...  ABBOTT   \n",
       "1  LENS FOLD ZMA00U.06.5D N/STD MULTIFOCAL ACRYLI...  ABBOTT   \n",
       "2  LENS FOLD ZMA00U.06.5D N/STD MULTIFOCAL ACRYLI...  ABBOTT   \n",
       "3  LENS IOL TECNIS ZMA00U 6.5D 3PC ASPHERIC MULTI...  ABBOTT   \n",
       "4  LENS IOL TECNIS ZMA00U 6.5D 3PC ASPHERIC MULTI...  ABBOTT   \n",
       "5  IMPLANT OPHTHALMOLOGY LENS INTRAOCULAR FOLDABL...  ABBOTT   \n",
       "\n",
       "                        6   7                                     8   \\\n",
       "0                      AMO   4  F9991DE3-8C7B-5C15-A76D-F5C79137B114   \n",
       "1                      AMO   5  B7996E81-DFDB-A13C-0E86-056C09029279   \n",
       "2                      AMO   6  AABC72EC-2891-772B-601E-8618EEC27CD3   \n",
       "3                   ABBOTT   5  B7996E81-DFDB-A13C-0E86-056C09029279   \n",
       "4                   ABBOTT   6  AABC72EC-2891-772B-601E-8618EEC27CD3   \n",
       "5  ADVANCED MEDICAL OPTICS   6  AABC72EC-2891-772B-601E-8618EEC27CD3   \n",
       "\n",
       "           9           10                                                 11  \\\n",
       "0  ZMA00U0065  ZMA00U0065  LENS IOL TECNIS ZMA00U 6.5D 3PC ASPHERIC MULTI...   \n",
       "1  ZMA00U0065  ZMA00U0065  IMPLANT OPHTHALMOLOGY LENS INTRAOCULAR FOLDABL...   \n",
       "2  ZMA00U0065  ZMA00U0065  LENS FOLD ZMA00U.06.5D N/STD MULTIFOCAL ACRYLI...   \n",
       "3  ZMA00U0065  ZMA00U0065  IMPLANT OPHTHALMOLOGY LENS INTRAOCULAR FOLDABL...   \n",
       "4  ZMA00U0065  ZMA00U0065  LENS FOLD ZMA00U.06.5D N/STD MULTIFOCAL ACRYLI...   \n",
       "5  ZMA00U0065  ZMA00U0065  LENS FOLD ZMA00U.06.5D N/STD MULTIFOCAL ACRYLI...   \n",
       "\n",
       "       12                       13  \n",
       "0  ABBOTT                   ABBOTT  \n",
       "1  ABBOTT  ADVANCED MEDICAL OPTICS  \n",
       "2  ABBOTT                      AMO  \n",
       "3  ABBOTT  ADVANCED MEDICAL OPTICS  \n",
       "4  ABBOTT                      AMO  \n",
       "5  ABBOTT                      AMO  "
      ],
      "text/html": "<div>\n<style scoped>\n    .dataframe tbody tr th:only-of-type {\n        vertical-align: middle;\n    }\n\n    .dataframe tbody tr th {\n        vertical-align: top;\n    }\n\n    .dataframe thead th {\n        text-align: right;\n    }\n</style>\n<table border=\"1\" class=\"dataframe\">\n  <thead>\n    <tr style=\"text-align: right;\">\n      <th></th>\n      <th>0</th>\n      <th>1</th>\n      <th>2</th>\n      <th>3</th>\n      <th>4</th>\n      <th>5</th>\n      <th>6</th>\n      <th>7</th>\n      <th>8</th>\n      <th>9</th>\n      <th>10</th>\n      <th>11</th>\n      <th>12</th>\n      <th>13</th>\n    </tr>\n  </thead>\n  <tbody>\n    <tr>\n      <th>0</th>\n      <td>3</td>\n      <td>31AF5181-C0E4-3492-B947-AF1668AF27DC</td>\n      <td>ZMA00U0065</td>\n      <td>ZMA00U0065</td>\n      <td>LENS FOLD ZMA00U.06.5D N/STD MULTIFOCAL ACRYLI...</td>\n      <td>ABBOTT</td>\n      <td>AMO</td>\n      <td>4</td>\n      <td>F9991DE3-8C7B-5C15-A76D-F5C79137B114</td>\n      <td>ZMA00U0065</td>\n      <td>ZMA00U0065</td>\n      <td>LENS IOL TECNIS ZMA00U 6.5D 3PC ASPHERIC MULTI...</td>\n      <td>ABBOTT</td>\n      <td>ABBOTT</td>\n    </tr>\n    <tr>\n      <th>1</th>\n      <td>3</td>\n      <td>31AF5181-C0E4-3492-B947-AF1668AF27DC</td>\n      <td>ZMA00U0065</td>\n      <td>ZMA00U0065</td>\n      <td>LENS FOLD ZMA00U.06.5D N/STD MULTIFOCAL ACRYLI...</td>\n      <td>ABBOTT</td>\n      <td>AMO</td>\n      <td>5</td>\n      <td>B7996E81-DFDB-A13C-0E86-056C09029279</td>\n      <td>ZMA00U0065</td>\n      <td>ZMA00U0065</td>\n      <td>IMPLANT OPHTHALMOLOGY LENS INTRAOCULAR FOLDABL...</td>\n      <td>ABBOTT</td>\n      <td>ADVANCED MEDICAL OPTICS</td>\n    </tr>\n    <tr>\n      <th>2</th>\n      <td>3</td>\n      <td>31AF5181-C0E4-3492-B947-AF1668AF27DC</td>\n      <td>ZMA00U0065</td>\n      <td>ZMA00U0065</td>\n      <td>LENS FOLD ZMA00U.06.5D N/STD MULTIFOCAL ACRYLI...</td>\n      <td>ABBOTT</td>\n      <td>AMO</td>\n      <td>6</td>\n      <td>AABC72EC-2891-772B-601E-8618EEC27CD3</td>\n      <td>ZMA00U0065</td>\n      <td>ZMA00U0065</td>\n      <td>LENS FOLD ZMA00U.06.5D N/STD MULTIFOCAL ACRYLI...</td>\n      <td>ABBOTT</td>\n      <td>AMO</td>\n    </tr>\n    <tr>\n      <th>3</th>\n      <td>4</td>\n      <td>F9991DE3-8C7B-5C15-A76D-F5C79137B114</td>\n      <td>ZMA00U0065</td>\n      <td>ZMA00U0065</td>\n      <td>LENS IOL TECNIS ZMA00U 6.5D 3PC ASPHERIC MULTI...</td>\n      <td>ABBOTT</td>\n      <td>ABBOTT</td>\n      <td>5</td>\n      <td>B7996E81-DFDB-A13C-0E86-056C09029279</td>\n      <td>ZMA00U0065</td>\n      <td>ZMA00U0065</td>\n      <td>IMPLANT OPHTHALMOLOGY LENS INTRAOCULAR FOLDABL...</td>\n      <td>ABBOTT</td>\n      <td>ADVANCED MEDICAL OPTICS</td>\n    </tr>\n    <tr>\n      <th>4</th>\n      <td>4</td>\n      <td>F9991DE3-8C7B-5C15-A76D-F5C79137B114</td>\n      <td>ZMA00U0065</td>\n      <td>ZMA00U0065</td>\n      <td>LENS IOL TECNIS ZMA00U 6.5D 3PC ASPHERIC MULTI...</td>\n      <td>ABBOTT</td>\n      <td>ABBOTT</td>\n      <td>6</td>\n      <td>AABC72EC-2891-772B-601E-8618EEC27CD3</td>\n      <td>ZMA00U0065</td>\n      <td>ZMA00U0065</td>\n      <td>LENS FOLD ZMA00U.06.5D N/STD MULTIFOCAL ACRYLI...</td>\n      <td>ABBOTT</td>\n      <td>AMO</td>\n    </tr>\n    <tr>\n      <th>5</th>\n      <td>5</td>\n      <td>B7996E81-DFDB-A13C-0E86-056C09029279</td>\n      <td>ZMA00U0065</td>\n      <td>ZMA00U0065</td>\n      <td>IMPLANT OPHTHALMOLOGY LENS INTRAOCULAR FOLDABL...</td>\n      <td>ABBOTT</td>\n      <td>ADVANCED MEDICAL OPTICS</td>\n      <td>6</td>\n      <td>AABC72EC-2891-772B-601E-8618EEC27CD3</td>\n      <td>ZMA00U0065</td>\n      <td>ZMA00U0065</td>\n      <td>LENS FOLD ZMA00U.06.5D N/STD MULTIFOCAL ACRYLI...</td>\n      <td>ABBOTT</td>\n      <td>AMO</td>\n    </tr>\n  </tbody>\n</table>\n</div>"
     },
     "metadata": {},
     "execution_count": 22
    }
   ],
   "source": [
    "import itertools\n",
    "test_input = pd.read_csv('4.csv')\n",
    "combo = list(itertools.combinations(test_input.values, 2))\n",
    "# combo\n",
    "flattern_input = [list(itertools.chain(item[0], item[1])) for item in combo]\n",
    "df = pd.DataFrame(flattern_input)\n",
    "df\n",
    "# df = pd.DataFrame( list(itertools.combinations(multi_item_input, 2))])\n",
    "# df\n",
    "\n",
    "# df.to_csv('4-combined.csv')    \n",
    "\n",
    "    \n",
    "\n",
    "    # print(right)\n",
    "# r.reset_index(drop=True)\n",
    "# TODO Need to remove rows where item1 = item2"
   ]
  },
  {
   "cell_type": "code",
   "execution_count": 10,
   "metadata": {},
   "outputs": [
    {
     "output_type": "execute_result",
     "data": {
      "text/plain": [
       "0.9473684210526315"
      ]
     },
     "metadata": {},
     "execution_count": 10
    }
   ],
   "source": [
    "import Levenshtein as lev\n",
    "str1 = \"Apple Inc.\"\n",
    "str2 = \"apple Inc\"\n",
    "ratio = lev.ratio(str1.lower(),str2.lower())\n",
    "ratio \n",
    "    \n"
   ]
  },
  {
   "cell_type": "code",
   "execution_count": 147,
   "metadata": {},
   "outputs": [
    {
     "output_type": "execute_result",
     "data": {
      "text/plain": [
       "   VMVM-R  VMMM-R  MMMM-R  MMVM-R    Desc-R  Match\n",
       "0     1.0     1.0     1.0     1.0  0.604938      1\n",
       "1     1.0     1.0     1.0     1.0  0.388060      1\n",
       "2     1.0     1.0     1.0     1.0  1.000000      1\n",
       "3     1.0     1.0     1.0     1.0  0.497561      1\n",
       "4     1.0     1.0     1.0     1.0  0.604938      1\n",
       "5     1.0     1.0     1.0     1.0  0.388060      1"
      ],
      "text/html": "<div>\n<style scoped>\n    .dataframe tbody tr th:only-of-type {\n        vertical-align: middle;\n    }\n\n    .dataframe tbody tr th {\n        vertical-align: top;\n    }\n\n    .dataframe thead th {\n        text-align: right;\n    }\n</style>\n<table border=\"1\" class=\"dataframe\">\n  <thead>\n    <tr style=\"text-align: right;\">\n      <th></th>\n      <th>VMVM-R</th>\n      <th>VMMM-R</th>\n      <th>MMMM-R</th>\n      <th>MMVM-R</th>\n      <th>Desc-R</th>\n      <th>Match</th>\n    </tr>\n  </thead>\n  <tbody>\n    <tr>\n      <th>0</th>\n      <td>1.0</td>\n      <td>1.0</td>\n      <td>1.0</td>\n      <td>1.0</td>\n      <td>0.604938</td>\n      <td>1</td>\n    </tr>\n    <tr>\n      <th>1</th>\n      <td>1.0</td>\n      <td>1.0</td>\n      <td>1.0</td>\n      <td>1.0</td>\n      <td>0.388060</td>\n      <td>1</td>\n    </tr>\n    <tr>\n      <th>2</th>\n      <td>1.0</td>\n      <td>1.0</td>\n      <td>1.0</td>\n      <td>1.0</td>\n      <td>1.000000</td>\n      <td>1</td>\n    </tr>\n    <tr>\n      <th>3</th>\n      <td>1.0</td>\n      <td>1.0</td>\n      <td>1.0</td>\n      <td>1.0</td>\n      <td>0.497561</td>\n      <td>1</td>\n    </tr>\n    <tr>\n      <th>4</th>\n      <td>1.0</td>\n      <td>1.0</td>\n      <td>1.0</td>\n      <td>1.0</td>\n      <td>0.604938</td>\n      <td>1</td>\n    </tr>\n    <tr>\n      <th>5</th>\n      <td>1.0</td>\n      <td>1.0</td>\n      <td>1.0</td>\n      <td>1.0</td>\n      <td>0.388060</td>\n      <td>1</td>\n    </tr>\n  </tbody>\n</table>\n</div>"
     },
     "metadata": {},
     "execution_count": 147
    }
   ],
   "source": [
    "def transform(df, match):\n",
    "    df['VMVM-R'] = lev.ratio(df['VMID-1'], df['VMID-2']) \n",
    "    df['VMMM-R'] = lev.ratio(df['VMID-1'], df['MMID-2'])     \n",
    "    df['MMMM-R'] = lev.ratio(df['MMID-1'], df['MMID-2']) \n",
    "    df['MMVM-R'] = lev.ratio(df['MMID-1'], df['VMID-2']) \n",
    "    df['ItemDesc-R'] = lev.ratio(df['ItemDesc-1'], df['ItemDesc-2'])\n",
    "    df['VendorDesc-R'] = lev.ratio(df['VendorDesc-1'], df['VendorDesc-2'])\n",
    "    df['ManufacturerDesc-R'] = lev.ratio(df['ManufacturerDesc-1'], df['ManufacturerDesc-2'])    \n",
    "    df['Match'] = match\n",
    "    return df\n",
    "\n",
    "def transform_match(df):\n",
    "    return transform(df, 1)\n",
    "\n",
    "def transform_no_match(df):\n",
    "    return transform(df, 0)\n",
    "\n",
    "t = df.apply(transform_match, axis=1)\n",
    "t\n",
    "input = t[['VMVM-R', 'VMMM-R', 'MMMM-R', 'MMVM-R', 'ItemDesc-R', 'VendorDesc-R', 'ManufacturerDesc-R', 'Match']]\n",
    "input\n",
    "\n",
    "\n",
    "\n"
   ]
  },
  {
   "cell_type": "code",
   "execution_count": 6,
   "metadata": {},
   "outputs": [
    {
     "output_type": "stream",
     "name": "stdout",
     "text": [
      "Processing Items from Product Master ID=4\n"
     ]
    }
   ],
   "source": [
    "grouped = multi_items_input.groupby('ProductMasterId')\n",
    "for name, group in grouped:\n",
    "    if (name == 4):\n",
    "        print(\n",
    "            \"Processing Items from Product Master ID={name}\".format(name=name))\n",
    "        result = group[['ItemKey', 'VMID', 'MMID', 'ItemDesc',\n",
    "                        'VendorDesc', 'ManufacturerDesc']]     \n",
    "        result.to_csv(str(name) + '.csv')        "
   ]
  },
  {
   "cell_type": "code",
   "execution_count": null,
   "metadata": {},
   "outputs": [],
   "source": [
    "single_item_input = df[df['Counts'] == 1]\n",
    "single_item_input"
   ]
  }
 ]
}